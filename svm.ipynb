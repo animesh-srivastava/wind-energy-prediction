{
 "cells": [
  {
   "cell_type": "code",
   "execution_count": 11,
   "id": "coated-resident",
   "metadata": {},
   "outputs": [],
   "source": [
    "import pandas as pd\n",
    "import numpy as np\n",
    "from sklearn import svm\n",
    "from sklearn.preprocessing import MinMaxScaler\n",
    "import matplotlib.pyplot as plt"
   ]
  },
  {
   "cell_type": "code",
   "execution_count": 12,
   "id": "reverse-carol",
   "metadata": {},
   "outputs": [],
   "source": [
    "from cleaning_datasets import loading_dissected_datasets"
   ]
  },
  {
   "cell_type": "code",
   "execution_count": 7,
   "id": "creative-teacher",
   "metadata": {},
   "outputs": [],
   "source": [
    "df = loading_dissected_datasets(12, 12)"
   ]
  },
  {
   "cell_type": "code",
   "execution_count": 13,
   "id": "twenty-friendly",
   "metadata": {},
   "outputs": [],
   "source": [
    "test_period = 30 #days\n",
    "train_data = df[:df.shape[0]-test_period][\"mean\"]\n",
    "test_data = df[df.shape[0]-test_period:][\"mean\"]"
   ]
  },
  {
   "cell_type": "code",
   "execution_count": 14,
   "id": "convinced-transportation",
   "metadata": {},
   "outputs": [],
   "source": [
    "scaler = MinMaxScaler()\n",
    "train_data = np.array(train_data).reshape(-1,1)\n",
    "test_data = np.array(test_data).reshape(-1,1)\n",
    "\n",
    "train_data = scaler.fit_transform(train_data)\n",
    "train_data = train_data.reshape(-1)\n",
    "\n",
    "test_data = scaler.transform(test_data).reshape(-1)"
   ]
  },
  {
   "cell_type": "code",
   "execution_count": 15,
   "id": "working-count",
   "metadata": {},
   "outputs": [],
   "source": [
    "EMA = 0.0\n",
    "gamma = 0.3\n",
    "for ti in range(train_data.shape[0]):\n",
    "  EMA = gamma*train_data[ti] + (1-gamma)*EMA\n",
    "  train_data[ti] = EMA"
   ]
  },
  {
   "cell_type": "code",
   "execution_count": 16,
   "id": "conceptual-library",
   "metadata": {},
   "outputs": [],
   "source": [
    "jump=1\n",
    "lookback = 80\n",
    "X_train,y_train = [],[]\n",
    "for i in range(lookback,train_data.size,jump):\n",
    "    X_train.append(train_data[i-lookback:i])\n",
    "    y_train.append(train_data[i])\n",
    "X_train,y_train = np.array(X_train),np.array(y_train)\n",
    " \n",
    "X_train = np.reshape(X_train,(X_train.shape[0],X_train.shape[1],1))"
   ]
  },
  {
   "cell_type": "code",
   "execution_count": 18,
   "id": "optical-surrey",
   "metadata": {},
   "outputs": [],
   "source": [
    "from sklearn.svm import SVR\n",
    "regressor = SVR(kernel = 'rbf')"
   ]
  },
  {
   "cell_type": "code",
   "execution_count": 35,
   "id": "structural-avenue",
   "metadata": {},
   "outputs": [
    {
     "data": {
      "text/plain": [
       "((255, 80, 1), (255, 1))"
      ]
     },
     "execution_count": 35,
     "metadata": {},
     "output_type": "execute_result"
    }
   ],
   "source": [
    "X_train.shape, y_train.shape"
   ]
  },
  {
   "cell_type": "code",
   "execution_count": 33,
   "id": "legendary-cache",
   "metadata": {},
   "outputs": [],
   "source": [
    "y_train = y_train.reshape(-1,1)"
   ]
  },
  {
   "cell_type": "code",
   "execution_count": 65,
   "id": "funny-hamilton",
   "metadata": {},
   "outputs": [
    {
     "name": "stderr",
     "output_type": "stream",
     "text": [
      "/home/animesh/Projects/wind/pythonenv/lib64/python3.8/site-packages/sklearn/utils/validation.py:63: DataConversionWarning: A column-vector y was passed when a 1d array was expected. Please change the shape of y to (n_samples, ), for example using ravel().\n",
      "  return f(*args, **kwargs)\n"
     ]
    }
   ],
   "source": [
    "history = regressor.fit(X_train.reshape(-1,80), y_train)"
   ]
  },
  {
   "cell_type": "code",
   "execution_count": 45,
   "id": "specific-brave",
   "metadata": {},
   "outputs": [],
   "source": [
    "df2 = loading_dissected_datasets(13, 12)"
   ]
  },
  {
   "cell_type": "code",
   "execution_count": 78,
   "id": "meaning-angle",
   "metadata": {},
   "outputs": [],
   "source": [
    "test_data = []\n",
    "for i in range(1, 30):\n",
    "    # print(len(df.iloc[-80-i:-i])\n",
    "    test_data.append(df.iloc[-80-i:-i][\"mean\"].values.tolist())"
   ]
  },
  {
   "cell_type": "code",
   "execution_count": 80,
   "id": "proper-kansas",
   "metadata": {},
   "outputs": [],
   "source": [
    "predicted = regressor.predict(test_data)\n",
    "predicted = scaler.inverse_transform(predicted.reshape(1,-1))"
   ]
  },
  {
   "cell_type": "code",
   "execution_count": 107,
   "id": "acceptable-reserve",
   "metadata": {},
   "outputs": [
    {
     "data": {
      "text/plain": [
       "<matplotlib.legend.Legend at 0x7fbd674c9ca0>"
      ]
     },
     "execution_count": 107,
     "metadata": {},
     "output_type": "execute_result"
    },
    {
     "data": {
      "image/png": "[encoded data removed]",
      "text/plain": [
       "<Figure size 640x480 with 1 Axes>"
      ]
     },
     "metadata": {
      "needs_background": "light"
     },
     "output_type": "display_data"
    }
   ],
   "source": [
    "actual = df.iloc[-30:][\"mean\"].values.tolist()\n",
    "from matplotlib.pyplot import figure\n",
    "figure(figsize=(8, 6), dpi=80)\n",
    "plt.plot(actual, label=\"Actual\")\n",
    "plt.plot(predicted.reshape(-1), label=\"Predicted\")\n",
    "plt.ylim(0, 1)\n",
    "plt.xlabel(\"Days\")\n",
    "plt.ylabel(\"Relative Energy Production\")\n",
    "plt.legend()"
   ]
  },
  {
   "cell_type": "code",
   "execution_count": 103,
   "id": "arabic-operation",
   "metadata": {},
   "outputs": [],
   "source": [
    "import sklearn\n",
    "import math\n",
    "\n",
    "mse = sklearn.metrics.mean_squared_error(actual[:-1], predicted.reshape(-1).tolist())\n",
    "\n",
    "rmse = math.sqrt(mse)"
   ]
  },
  {
   "cell_type": "code",
   "execution_count": 104,
   "id": "municipal-protest",
   "metadata": {},
   "outputs": [
    {
     "data": {
      "text/plain": [
       "0.1233790261367969"
      ]
     },
     "execution_count": 104,
     "metadata": {},
     "output_type": "execute_result"
    }
   ],
   "source": [
    "rmse"
   ]
  },
  {
   "cell_type": "code",
   "execution_count": 109,
   "id": "french-flexibility",
   "metadata": {},
   "outputs": [
    {
     "data": {
      "text/plain": [
       "0.021646195370366376"
      ]
     },
     "execution_count": 109,
     "metadata": {},
     "output_type": "execute_result"
    }
   ],
   "source": [
    "import statistics\n",
    "statistics.stdev(predicted.reshape(-1).tolist())"
   ]
  },
  {
   "cell_type": "code",
   "execution_count": null,
   "id": "advisory-shooting",
   "metadata": {},
   "outputs": [],
   "source": []
  }
 ],
 "metadata": {
  "kernelspec": {
   "display_name": "Python 3.8.7 64-bit ('pythonenv': venv)",
   "language": "python",
   "name": "python38764bitpythonenvvenv1054a4c5626c4a3095ace3ba7417e54c"
  },
  "language_info": {
   "codemirror_mode": {
    "name": "ipython",
    "version": 3
   },
   "file_extension": ".py",
   "mimetype": "text/x-python",
   "name": "python",
   "nbconvert_exporter": "python",
   "pygments_lexer": "ipython3",
   "version": "3.8.7"
  }
 },
 "nbformat": 4,
 "nbformat_minor": 5
}
